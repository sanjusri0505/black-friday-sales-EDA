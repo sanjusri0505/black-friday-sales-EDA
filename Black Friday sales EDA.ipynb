{
 "cells": [
  {
   "cell_type": "code",
   "execution_count": null,
   "id": "2480d46c-99e8-412b-90f3-725a69c615a2",
   "metadata": {},
   "outputs": [],
   "source": [
    "# Iporting libraries\n",
    "import pandas as pd\n",
    "import numpy as np\n",
    "import matplotlib.pyplot as plt\n",
    "import seaborn as sns\n",
    "import warnings\n",
    "warnings.filterwarnings('ignore')"
   ]
  },
  {
   "cell_type": "code",
   "execution_count": null,
   "id": "381102e1-63a7-4885-8f78-0ea9018c6235",
   "metadata": {},
   "outputs": [],
   "source": [
    "# Importing Dataset\n",
    "\n",
    "df = pd.read_csv(\"C:/Users/sanju/Downloads/train.csv\")\n",
    "pd.DataFrame(df)"
   ]
  },
  {
   "cell_type": "code",
   "execution_count": null,
   "id": "c0dc8301-0c6f-4392-89c3-2c10304fb679",
   "metadata": {},
   "outputs": [],
   "source": [
    "# Understanding data\n",
    "df.info()"
   ]
  },
  {
   "cell_type": "code",
   "execution_count": null,
   "id": "4bbc606e-8b04-49c6-a70b-d02123f69fd6",
   "metadata": {},
   "outputs": [],
   "source": [
    "'''\n",
    "Observations:\n",
    "map range variables into integers 'Age' column\n",
    "convert gender categorical data into integer using map function\n",
    "convert City_category categorical data into integer using map function\n",
    "stay_In_Current_City_Years column is in object data type it should either be int or float\n",
    "'''"
   ]
  },
  {
   "cell_type": "code",
   "execution_count": null,
   "id": "66f21028-4262-42d3-9a8c-2962f2ea4ce1",
   "metadata": {},
   "outputs": [],
   "source": [
    "# Checking for basic statistic dataset\n",
    "df.describe()"
   ]
  },
  {
   "cell_type": "code",
   "execution_count": null,
   "id": "86157760-0588-43b4-b45a-076f8874e099",
   "metadata": {},
   "outputs": [],
   "source": [
    "'''\n",
    "Conclusions :\n",
    "1. In the purchase column, mean is greater than median implying that data is right skewed outliers is right tailed.\n",
    "2. In the product category 1 column, mean is slightly greater than median the distribution is right tailed.\n",
    "3. In product category 2 column, mean is slightly greater than median the distribution is right tailed.\n",
    "4. In product category 3 column,mean is significantly less than median implying that data is left skewed outliers in left tailed.\n",
    "'''"
   ]
  },
  {
   "cell_type": "code",
   "execution_count": null,
   "id": "dbd4e888-f725-4c99-88a9-42c43414976a",
   "metadata": {},
   "outputs": [],
   "source": [
    "# Checking if any NULL values\n",
    "df.isnull().sum().any()"
   ]
  },
  {
   "cell_type": "code",
   "execution_count": null,
   "id": "248b7faf-daa4-4614-b6bd-109a5a5d69fc",
   "metadata": {},
   "outputs": [],
   "source": [
    "# True means there are NULL values in data\n",
    "# False means there are no NULL values in data"
   ]
  },
  {
   "cell_type": "code",
   "execution_count": null,
   "id": "101a14e5-9eb2-4d72-8910-832aac675443",
   "metadata": {},
   "outputs": [],
   "source": [
    "# Checking for duplicated values\n",
    "df.duplicated().sum()"
   ]
  },
  {
   "cell_type": "code",
   "execution_count": null,
   "id": "c12e83fb-dd8d-4522-938e-1b59b151e4ab",
   "metadata": {},
   "outputs": [],
   "source": [
    "# 0 means no duplicate values in data\n",
    "# if there are any duplicate values in data then drop them, df.drop_duplicates()"
   ]
  },
  {
   "cell_type": "code",
   "execution_count": null,
   "id": "1249c17e-0f86-4f31-afdb-099d46663e26",
   "metadata": {},
   "outputs": [],
   "source": [
    "# Getting to know column wise NULL values\n",
    "df.isnull().sum()"
   ]
  },
  {
   "cell_type": "code",
   "execution_count": null,
   "id": "164261c0-dd31-4138-b970-f95a50d5f5db",
   "metadata": {},
   "outputs": [],
   "source": [
    "# Missing values in Product_Category_2 and Product_Category_3"
   ]
  },
  {
   "cell_type": "code",
   "execution_count": null,
   "id": "5cd1972a-fe2a-4af4-9aa8-136cd57e147e",
   "metadata": {},
   "outputs": [],
   "source": [
    "# Imputing the data for Product_category_2 and prodcut_Categor_3 with median() has less outliers compared to mean()\n",
    "df['Product_Category_2'].fillna(df['Product_Category_2'].median(), inplace=True)\n",
    "df['Product_Category_3'].fillna(df['Product_Category_3'].median(), inplace=True)"
   ]
  },
  {
   "cell_type": "code",
   "execution_count": null,
   "id": "201bd580-8e1a-43a8-83b8-b10fc3ffdf60",
   "metadata": {},
   "outputs": [],
   "source": [
    "# checking to know column wise NULL values\n",
    "df.isnull().sum()"
   ]
  },
  {
   "cell_type": "code",
   "execution_count": null,
   "id": "2dd83ed9-667d-4753-a21c-091ee5eeb6f3",
   "metadata": {},
   "outputs": [],
   "source": [
    "#convert gender categorical data into integer using map function\n",
    "df['Gender'] = df['Gender'].map({'M':1 ,'F': 0})"
   ]
  },
  {
   "cell_type": "code",
   "execution_count": null,
   "id": "f7303bda-f2df-44f4-9b6b-1b1c9d5cd586",
   "metadata": {},
   "outputs": [],
   "source": [
    "df['Age'].value_counts()"
   ]
  },
  {
   "cell_type": "code",
   "execution_count": null,
   "id": "6f66b4ff-ae89-4cd9-ad1e-d96e7c3d223a",
   "metadata": {},
   "outputs": [],
   "source": [
    "# map range variables into integers 'Age' column\n",
    "\n",
    "# Mapping Age Ranges to Integers\n",
    "age_mapping = {\n",
    "    '0-17': 0,\n",
    "    '18-25': 1,\n",
    "    '26-35': 2,\n",
    "    '36-45': 3,\n",
    "    '46-50': 4,\n",
    "    '51-55': 5,\n",
    "    '55+': 6\n",
    "}\n",
    "df['Age'] = df['Age'].map(age_mapping)\n",
    "print(df['Age'].value_counts())"
   ]
  },
  {
   "cell_type": "code",
   "execution_count": null,
   "id": "05efbd06-de9e-4c57-b0dd-2279238d6a0e",
   "metadata": {},
   "outputs": [],
   "source": [
    "df['Stay_In_Current_City_Years'].value_counts()"
   ]
  },
  {
   "cell_type": "code",
   "execution_count": null,
   "id": "e1c50373-1dd0-4e91-ae4f-bd5079257bae",
   "metadata": {},
   "outputs": [],
   "source": [
    "# Replacing 4+ in 'Stay_In_Current_City_Years' as 4 \n",
    "df['Stay_In_Current_City_Years'] = df['Stay_In_Current_City_Years'].replace({'4+':4}).astype('int64')\n",
    "print(df['Stay_In_Current_City_Years'])"
   ]
  },
  {
   "cell_type": "code",
   "execution_count": null,
   "id": "9c77eec2-5f2d-4f16-9c45-e601d65ac242",
   "metadata": {},
   "outputs": [],
   "source": [
    "df.info()"
   ]
  },
  {
   "cell_type": "code",
   "execution_count": null,
   "id": "de3707ac-40b8-4092-834e-d0646958233d",
   "metadata": {},
   "outputs": [],
   "source": [
    "'''\n",
    "Product_category_2 and product_category_3 are in type float change type ot Int\n",
    "'''"
   ]
  },
  {
   "cell_type": "code",
   "execution_count": null,
   "id": "bc21ee02-afd8-44eb-aa8b-417971f58ec1",
   "metadata": {},
   "outputs": [],
   "source": [
    "df['Product_Category_2'] = df['Product_Category_2'].astype('int64')\n",
    "df['Product_Category_3'] = df['Product_Category_3'].astype('int64')"
   ]
  },
  {
   "cell_type": "code",
   "execution_count": null,
   "id": "e93059df-00ee-42f6-a862-fc8ad4d8e272",
   "metadata": {},
   "outputs": [],
   "source": [
    "# Counting the occurrences of each unique value in the 'City_Category' column\n",
    "df['City_Category'].value_counts()"
   ]
  },
  {
   "cell_type": "code",
   "execution_count": null,
   "id": "a7a8adb0-999c-4c3f-a88b-20e064bf3abf",
   "metadata": {},
   "outputs": [],
   "source": [
    "# How many ProductID are there in dataset\n",
    "df['Product_ID'].count()"
   ]
  },
  {
   "cell_type": "code",
   "execution_count": null,
   "id": "fa928b50-41e2-4d34-bb37-939d56c28149",
   "metadata": {},
   "outputs": [],
   "source": [
    "# Average purchase by product categories\n",
    "df.groupby(['Product_Category_1','Product_Category_2','Product_Category_3'])['Purchase'].mean().reset_index()"
   ]
  },
  {
   "cell_type": "code",
   "execution_count": null,
   "id": "7d20553f-1100-4076-95c5-d975fc6fea38",
   "metadata": {},
   "outputs": [],
   "source": [
    "#Getting the number of Unique values\n",
    "df[['Product_ID','Product_Category_1','Product_Category_2','Product_Category_3']].nunique()"
   ]
  },
  {
   "cell_type": "code",
   "execution_count": null,
   "id": "5ce1eae0-0d15-4518-b537-bab9a3d38143",
   "metadata": {},
   "outputs": [],
   "source": [
    "df.head(5)"
   ]
  },
  {
   "cell_type": "code",
   "execution_count": null,
   "id": "2615db2f-f660-418e-bbda-0f89a6f896db",
   "metadata": {},
   "outputs": [],
   "source": [
    "# countplot for 'Gender'\n",
    "plt.figure(figsize=(5,3))\n",
    "sns.countplot(x = 'Gender', data= df, palette = 'Set2') # 0 - feamle, 1- Male"
   ]
  },
  {
   "cell_type": "code",
   "execution_count": null,
   "id": "7b4c365a-61b6-44f5-9016-84735fc7070d",
   "metadata": {},
   "outputs": [],
   "source": [
    "# Countplot for 'Marital status'\n",
    "plt.figure(figsize=(5,3))\n",
    "sns.countplot(x = 'Marital_Status', data= df, palette = 'muted') "
   ]
  },
  {
   "cell_type": "code",
   "execution_count": null,
   "id": "99d16e95-4dfb-4f45-a959-0cb6d513e447",
   "metadata": {},
   "outputs": [],
   "source": [
    "# Countplot for 'Occupaption'\n",
    "plt.figure(figsize=(5,3))\n",
    "sns.countplot(x = 'Occupation', data= df, palette = 'Set1') "
   ]
  },
  {
   "cell_type": "code",
   "execution_count": null,
   "id": "3346b7cd-ae61-4314-9e24-daf78b7cd773",
   "metadata": {},
   "outputs": [],
   "source": [
    "# Scatter plot for occupation vs purchase\n",
    "plt.figure(figsize = (5,4))\n",
    "sns.barplot(x = 'Occupation', y= 'Purchase', data= df)\n",
    "plt.title('occupation vs purchase')\n",
    "plt.xlabel('Occupation')\n",
    "plt.ylabel('Purchase')\n",
    "plt.show()"
   ]
  },
  {
   "cell_type": "code",
   "execution_count": null,
   "id": "7aaf2de0-db06-4c4e-b0c9-57e46e5adaf2",
   "metadata": {},
   "outputs": [],
   "source": [
    "# Pie chart for purchase by city category\n",
    "# Grouping by 'City_Category' and calculating the total purchase amount for each category\n",
    "purchase_by_city = df.groupby('City_Category')['Purchase'].sum()\n",
    "\n",
    "plt.figure(figsize = (5,5))\n",
    "plt.pie(purchase_by_city,labels=purchase_by_city.index, autopct= '%2f%%', startangle=120)\n",
    "plt.title('Purchase Distribution by City Category')\n",
    "plt.legend()\n",
    "plt.show()"
   ]
  },
  {
   "cell_type": "code",
   "execution_count": null,
   "id": "3385d82e-8144-4bd1-9638-380ac08801ba",
   "metadata": {},
   "outputs": [],
   "source": [
    "'''\n",
    "Conclusion from pie chart for purchase ditribution by city category:\n",
    "Total Purchases from city category are high compared to other city categories A and C\n",
    "'''"
   ]
  },
  {
   "cell_type": "code",
   "execution_count": null,
   "id": "a50f8487-2f17-40b6-a38c-0a796ef59a71",
   "metadata": {},
   "outputs": [],
   "source": [
    "# purchase by age group\n",
    "sns.boxplot(x = 'Age',y ='Purchase', data = df)\n",
    "plt.title('Purchase by Age group')"
   ]
  },
  {
   "cell_type": "code",
   "execution_count": null,
   "id": "488c2fd8-0ea8-47f2-a708-951c969b1b82",
   "metadata": {},
   "outputs": [],
   "source": [
    "# Density plot for purchase\n",
    "plt.figure(figsize = (5,3))\n",
    "sns.kdeplot(df['Purchase'], fill= True)\n",
    "plt.title('Density plot for Purchases')\n",
    "plt.xlabel('Purchased')\n",
    "plt.ylabel('Density')\n",
    "plt.show()"
   ]
  },
  {
   "cell_type": "code",
   "execution_count": null,
   "id": "fcaca443-a198-458c-a9c9-1a91f1f85795",
   "metadata": {},
   "outputs": [],
   "source": [
    "# There are few outliers in right side"
   ]
  },
  {
   "cell_type": "code",
   "execution_count": null,
   "id": "58c4276b-87b2-4af0-9918-3e7b7a24fe66",
   "metadata": {},
   "outputs": [],
   "source": [
    "# Histogram to check distribution\n",
    "plt.figure(figsize = (5,3))\n",
    "sns.histplot(df['Purchase'], kde= True , bins = 30) # kde is true means we get histogram with curve.\n",
    "plt.title('Histogram of purchase')\n",
    "plt.xlabel('purchase')\n",
    "plt.ylabel('Frequency')\n",
    "plt.show()"
   ]
  },
  {
   "cell_type": "code",
   "execution_count": null,
   "id": "8601a4f5-4a6f-45df-b614-13825a72ddef",
   "metadata": {},
   "outputs": [],
   "source": [
    "# In the purchase column, mean is greater than median implying that data is right skewed outliers is right tailed."
   ]
  },
  {
   "cell_type": "code",
   "execution_count": null,
   "id": "ca5f5727-ab82-4e59-9632-1f18db476378",
   "metadata": {},
   "outputs": [],
   "source": [
    "# Product_category_1 vs Purchased\n",
    "plt.figure(figsize = (21,5))\n",
    "sns.boxplot(x = 'Product_Category_1', y = 'Purchase', data = df , palette = 'Set1')\n",
    "plt.title('Box plot of Product_category_1 vs Purchased')\n",
    "plt.xlabel('Product_category_1')\n",
    "plt.ylabel('Purchased')\n",
    "plt.show()"
   ]
  },
  {
   "cell_type": "code",
   "execution_count": null,
   "id": "8a823dca-4bcf-42f2-9fe7-a6030d23b8df",
   "metadata": {},
   "outputs": [],
   "source": [
    "'''\n",
    "Conclusions -> \n",
    "(1) From category 6-10 onwards, purchases started to increase.\n",
    "(2) From category 14- 17, the purchase was in a moderate range.\n",
    "(3) From 18-20 onwards, there has been a linear decrease in purchases.\n",
    "(4) Till category 14 - 20, the data was either not having any outliers or if outliers are there, they were in small proportion.\n",
    "(5) From category 9-10 onwards, there has been a slight increase in outliers (especially in right tail).\n",
    "'''"
   ]
  },
  {
   "cell_type": "code",
   "execution_count": null,
   "id": "ed3a4249-b76a-427a-807f-64173e30ef47",
   "metadata": {},
   "outputs": [],
   "source": [
    "# Product_category_2 vs Purchased\n",
    "plt.figure(figsize = (21,5))\n",
    "sns.boxplot(x = 'Product_Category_2', y = 'Purchase', data = df , palette = 'Set2')\n",
    "plt.title('Box plot of Product_category_2 vs Purchased')\n",
    "plt.xlabel('Product_category_2')\n",
    "plt.ylabel('Purchased')\n",
    "plt.show()"
   ]
  },
  {
   "cell_type": "code",
   "execution_count": null,
   "id": "ea2a7a7f-0ff7-49a8-ad5a-d1496e10ea85",
   "metadata": {},
   "outputs": [],
   "source": [
    "'''\n",
    "Conclusions - \n",
    "(1) Purchase was in a moderate range from category 2 to 8.\n",
    "(2) From category 9 onwards, there has been an increment in outliers (especially in righ tail).\n",
    "'''"
   ]
  },
  {
   "cell_type": "code",
   "execution_count": null,
   "id": "9b62c73c-d4fb-40a7-bc62-929b4a392c25",
   "metadata": {},
   "outputs": [],
   "source": [
    "# Product_category_1 vs Purchased\n",
    "plt.figure(figsize = (21,5))\n",
    "sns.boxplot(x = 'Product_Category_3', y = 'Purchase', data = df , palette = 'Set2')\n",
    "plt.title('Box plot of Product_category_3 vs Purchased')\n",
    "plt.xlabel('Product_category_3')\n",
    "plt.ylabel('Purchased')\n",
    "plt.show()"
   ]
  },
  {
   "cell_type": "code",
   "execution_count": null,
   "id": "431a7a36-fcd2-4cd7-a3e6-b86c1106daff",
   "metadata": {},
   "outputs": [],
   "source": [
    "'''\n",
    "Conclusions - \n",
    "(1) Purchase was in a moderate range for all category.\n",
    "(2)In category 14 , there are more outliers (especially in righ tail).\n",
    "'''"
   ]
  },
  {
   "cell_type": "code",
   "execution_count": null,
   "id": "8933a358-5cba-42c0-aa9d-dfa045c98228",
   "metadata": {},
   "outputs": [],
   "source": [
    "# KDE Plot (Purchase Trends by Gender)\n",
    "plt.figure(figsize=(6,5))\n",
    "sns.kdeplot(data=df, x='Purchase', hue='Gender', fill=True)\n",
    "plt.xlabel('Purchase Amount')\n",
    "plt.ylabel('Density')\n",
    "plt.title('Purchase Distribution by Gender')\n",
    "plt.show()"
   ]
  },
  {
   "cell_type": "code",
   "execution_count": null,
   "id": "5896b34c-cf43-41ac-8068-f4e7c124bcb7",
   "metadata": {},
   "outputs": [],
   "source": [
    "'''\n",
    "Conclusion from KDE plot for Purchase Distribution by Gender :\n",
    "Male gender has peak at a higher purchase amount, males tend to spend more.\n",
    "'''"
   ]
  },
  {
   "cell_type": "code",
   "execution_count": null,
   "id": "9b0b1ede-1716-45fc-b36c-b7f4b9b60ae1",
   "metadata": {},
   "outputs": [],
   "source": [
    "# Bar plot purchase comparison by Marital status\n",
    "plt.figure(figsize=(6,5))\n",
    "sns.barplot(x='Marital_Status', y='Purchase', data=df, estimator=sum, ci=None, palette='coolwarm')\n",
    "plt.xlabel('Marital Status')\n",
    "plt.ylabel('Total Purchase')\n",
    "plt.title('Total Purchase by Marital Status')\n",
    "plt.show()"
   ]
  },
  {
   "cell_type": "code",
   "execution_count": null,
   "id": "1cdd7c81-418b-473f-9f67-3c2ec95fccd9",
   "metadata": {},
   "outputs": [],
   "source": [
    "'''\n",
    "Conclusion from Bar plot purchase comparison by Marital status:\n",
    "Unmarried or single individuals tend to spend more than married couples, suggesting they may have higher income or different spending priorities.\n",
    "'''"
   ]
  }
 ],
 "metadata": {
  "kernelspec": {
   "display_name": "Python 3 (ipykernel)",
   "language": "python",
   "name": "python3"
  },
  "language_info": {
   "codemirror_mode": {
    "name": "ipython",
    "version": 3
   },
   "file_extension": ".py",
   "mimetype": "text/x-python",
   "name": "python",
   "nbconvert_exporter": "python",
   "pygments_lexer": "ipython3",
   "version": "3.12.7"
  }
 },
 "nbformat": 4,
 "nbformat_minor": 5
}
